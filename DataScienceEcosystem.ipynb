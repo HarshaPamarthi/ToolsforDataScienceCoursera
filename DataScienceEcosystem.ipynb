{
 "cells": [
  {
   "cell_type": "markdown",
   "id": "19531d71",
   "metadata": {},
   "source": [
    "# Data Science Tools and Ecosystem"
   ]
  },
  {
   "cell_type": "markdown",
   "id": "7fd5c5f9",
   "metadata": {},
   "source": [
    "In this notebook, Data Science Tools and Ecosystem are summarized."
   ]
  },
  {
   "cell_type": "markdown",
   "id": "a5141d1a",
   "metadata": {},
   "source": [
    "Some of the popular languages that Data Scientists use are:\n",
    "```\n",
    "- Python\n",
    "- R\n",
    "- SQL\n",
    "```"
   ]
  },
  {
   "cell_type": "markdown",
   "id": "23132a6a",
   "metadata": {},
   "source": [
    "Some of the commonly used libraries used by Data Scientists include:\n",
    "```\n",
    "1. matplotlib\n",
    "2. numpy\n",
    "3. pandas\n",
    "4. scipy\n",
    "```"
   ]
  },
  {
   "cell_type": "markdown",
   "id": "60c5787c",
   "metadata": {},
   "source": [
    "```\n",
    "|Data Science Tools |\n",
    "| ------ |\n",
    "| Jupyter |\n",
    "| RStudio |\n",
    "| Spider |\n",
    "\n",
    "    \n",
    "```"
   ]
  },
  {
   "cell_type": "markdown",
   "id": "f424e63c",
   "metadata": {},
   "source": [
    "### Below are a few examples of evaluating arithmetic expressions in Python"
   ]
  },
  {
   "cell_type": "code",
   "execution_count": 4,
   "id": "3893ceb5",
   "metadata": {},
   "outputs": [
    {
     "data": {
      "text/plain": [
       "17"
      ]
     },
     "execution_count": 4,
     "metadata": {},
     "output_type": "execute_result"
    }
   ],
   "source": [
    "#This a simple arithmetic expression to mutiply then add integers\n",
    "(3*4)+5"
   ]
  },
  {
   "cell_type": "code",
   "execution_count": 5,
   "id": "4bd29915",
   "metadata": {},
   "outputs": [
    {
     "data": {
      "text/plain": [
       "3.3333333333333335"
      ]
     },
     "execution_count": 5,
     "metadata": {},
     "output_type": "execute_result"
    }
   ],
   "source": [
    "#This will convert 200 minutes to hours by diving by 60\n",
    "200/60"
   ]
  },
  {
   "cell_type": "markdown",
   "id": "25fc69f2",
   "metadata": {},
   "source": [
    "**Objectives**\n",
    "```\n",
    "\n",
    "- List popular languages for Data Science\n",
    "- Open Source Tools for Data Science\n",
    "- Introdcution to Python, R and SQL\n",
    "- List of libraries used for Data Science\n",
    "- Setting up Github and Jupyter notebook\n",
    "\n",
    "```"
   ]
  },
  {
   "cell_type": "markdown",
   "id": "49e1e2bf",
   "metadata": {},
   "source": [
    "## Author Harsha Vardhan Pamarthi"
   ]
  },
  {
   "cell_type": "code",
   "execution_count": null,
   "id": "194f5077",
   "metadata": {},
   "outputs": [],
   "source": []
  }
 ],
 "metadata": {
  "kernelspec": {
   "display_name": "Python 3 (ipykernel)",
   "language": "python",
   "name": "python3"
  },
  "language_info": {
   "codemirror_mode": {
    "name": "ipython",
    "version": 3
   },
   "file_extension": ".py",
   "mimetype": "text/x-python",
   "name": "python",
   "nbconvert_exporter": "python",
   "pygments_lexer": "ipython3",
   "version": "3.10.9"
  }
 },
 "nbformat": 4,
 "nbformat_minor": 5
}
